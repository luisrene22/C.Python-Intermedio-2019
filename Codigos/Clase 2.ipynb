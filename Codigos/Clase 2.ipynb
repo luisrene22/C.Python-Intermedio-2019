{
 "cells": [
  {
   "cell_type": "code",
   "execution_count": 27,
   "metadata": {},
   "outputs": [
    {
     "ename": "ValueError",
     "evalue": "empty separator",
     "output_type": "error",
     "traceback": [
      "\u001b[0;31m---------------------------------------------------------------------------\u001b[0m",
      "\u001b[0;31mValueError\u001b[0m                                Traceback (most recent call last)",
      "\u001b[0;32m<ipython-input-27-c1ff8685997d>\u001b[0m in \u001b[0;36m<module>\u001b[0;34m()\u001b[0m\n\u001b[1;32m     30\u001b[0m \u001b[0;31m#Instancias\u001b[0m\u001b[0;34m\u001b[0m\u001b[0;34m\u001b[0m\u001b[0m\n\u001b[1;32m     31\u001b[0m \u001b[0memp1\u001b[0m\u001b[0;34m=\u001b[0m\u001b[0mEmpleado\u001b[0m\u001b[0;34m(\u001b[0m\u001b[0;34m'John'\u001b[0m\u001b[0;34m,\u001b[0m\u001b[0;34m'Smith'\u001b[0m\u001b[0;34m)\u001b[0m\u001b[0;34m\u001b[0m\u001b[0m\n\u001b[0;32m---> 32\u001b[0;31m \u001b[0memp1\u001b[0m\u001b[0;34m.\u001b[0m\u001b[0mfullname\u001b[0m \u001b[0;34m=\u001b[0m \u001b[0;34m'Alonso Murrieta'\u001b[0m\u001b[0;34m\u001b[0m\u001b[0m\n\u001b[0m\u001b[1;32m     33\u001b[0m \u001b[0;34m\u001b[0m\u001b[0m\n\u001b[1;32m     34\u001b[0m \u001b[0mprint\u001b[0m\u001b[0;34m(\u001b[0m\u001b[0memp1\u001b[0m\u001b[0;34m.\u001b[0m\u001b[0memail\u001b[0m\u001b[0;34m)\u001b[0m\u001b[0;34m\u001b[0m\u001b[0m\n",
      "\u001b[0;32m<ipython-input-27-c1ff8685997d>\u001b[0m in \u001b[0;36mfullname\u001b[0;34m(self, name)\u001b[0m\n\u001b[1;32m     17\u001b[0m     \u001b[0;34m@\u001b[0m\u001b[0mfullname\u001b[0m\u001b[0;34m.\u001b[0m\u001b[0msetter\u001b[0m\u001b[0;31m#metodo modificador\u001b[0m\u001b[0;34m\u001b[0m\u001b[0m\n\u001b[1;32m     18\u001b[0m     \u001b[0;32mdef\u001b[0m \u001b[0mfullname\u001b[0m\u001b[0;34m(\u001b[0m\u001b[0mself\u001b[0m\u001b[0;34m,\u001b[0m\u001b[0mname\u001b[0m\u001b[0;34m)\u001b[0m\u001b[0;34m:\u001b[0m\u001b[0;34m\u001b[0m\u001b[0m\n\u001b[0;32m---> 19\u001b[0;31m         \u001b[0mfirst\u001b[0m\u001b[0;34m,\u001b[0m\u001b[0mlast\u001b[0m \u001b[0;34m=\u001b[0m \u001b[0mname\u001b[0m\u001b[0;34m.\u001b[0m\u001b[0msplit\u001b[0m\u001b[0;34m(\u001b[0m\u001b[0;34m''\u001b[0m\u001b[0;34m)\u001b[0m\u001b[0;34m\u001b[0m\u001b[0m\n\u001b[0m\u001b[1;32m     20\u001b[0m         \u001b[0mself\u001b[0m\u001b[0;34m.\u001b[0m\u001b[0mfirst\u001b[0m \u001b[0;34m=\u001b[0m \u001b[0mfirst\u001b[0m\u001b[0;34m\u001b[0m\u001b[0m\n\u001b[1;32m     21\u001b[0m         \u001b[0mself\u001b[0m\u001b[0;34m.\u001b[0m\u001b[0mlast\u001b[0m \u001b[0;34m=\u001b[0m \u001b[0mlast\u001b[0m\u001b[0;34m\u001b[0m\u001b[0m\n",
      "\u001b[0;31mValueError\u001b[0m: empty separator"
     ]
    }
   ],
   "source": [
    "class Empleado: \n",
    "    \n",
    "    #Constructor\n",
    "    def __init__(self,first,last):\n",
    "        self.first= first\n",
    "        self.last= last\n",
    "         \n",
    "    \n",
    "    @property\n",
    "    def email(self):#Propiedad\n",
    "        return '{}.{}@email.com'.format(self.first,self.last)\n",
    "    \n",
    "    @property\n",
    "    def fullname(self):#Una propiedad\n",
    "        return '{} {}'.format(self.first,self.last) \n",
    "    \n",
    "    @fullname.setter#metodo modificador\n",
    "    def fullname(self,name):\n",
    "        first,last = name.split('')\n",
    "        self.first = first\n",
    "        self.last = last\n",
    "    \n",
    "    @fullname.deleter #Metodo de borrado\n",
    "    def fullname(self):\n",
    "        print('It was deleted')\n",
    "        self.first = None\n",
    "        self.last = None\n",
    "        \n",
    "\n",
    "#Instancias\n",
    "emp1=Empleado('John','Smith')\n",
    "emp1.fullname = 'Alonso Murrieta'\n",
    "\n",
    "print(emp1.email)\n",
    "print(emp1.fullname)\n",
    "    \n",
    "del emp1.fullname\n"
   ]
  },
  {
   "cell_type": "code",
   "execution_count": 26,
   "metadata": {},
   "outputs": [
    {
     "name": "stdout",
     "output_type": "stream",
     "text": [
      "0\n",
      "2\n",
      "4\n",
      "6\n",
      "8\n"
     ]
    }
   ],
   "source": [
    "for i in range(0,10,2):#numero de inicio, numero final, incremento\n",
    "    print(i)"
   ]
  },
  {
   "cell_type": "code",
   "execution_count": 38,
   "metadata": {},
   "outputs": [
    {
     "name": "stdout",
     "output_type": "stream",
     "text": [
      "Tu vida sera: 47.5\n"
     ]
    }
   ],
   "source": [
    "class person():\n",
    "    \n",
    "    def __init__(self,nombre,edad):\n",
    "        self.name = nombre\n",
    "        self.age = edad\n",
    "        self.vidaFather = 0\n",
    "        self.vidaMother =0\n",
    "        \n",
    "    def promVida(self,vidaFather):\n",
    "        self.vidaFather = vidaFather\n",
    "        vidaProme = (self.age + vidaFather)/2\n",
    "        print('Tu vida sera:',vidaProm)\n",
    "        \n",
    "    def promVida2(self,vidaFather,vidaMother):\n",
    "        self.vidaFather = vidaFather\n",
    "        self.vidaMother = vidaMother\n",
    "        vidaProme = (self.age + vidaFather+vidaMother)/2\n",
    "        print('Tu vida sera:',vidaProme)\n",
    "        \n",
    "#Intancias\n",
    "\n",
    "person1 = person(\"Alonso\",20)\n",
    "person1.promVida2(40,35)"
   ]
  },
  {
   "cell_type": "markdown",
   "metadata": {},
   "source": [
    "## Encapsulamiento"
   ]
  },
  {
   "cell_type": "code",
   "execution_count": 62,
   "metadata": {},
   "outputs": [
    {
     "name": "stdout",
     "output_type": "stream",
     "text": [
      "El carro esta en marcha\n"
     ]
    },
    {
     "ename": "AttributeError",
     "evalue": "'carro' object has no attribute 'ruedas'",
     "output_type": "error",
     "traceback": [
      "\u001b[0;31m---------------------------------------------------------------------------\u001b[0m",
      "\u001b[0;31mAttributeError\u001b[0m                            Traceback (most recent call last)",
      "\u001b[0;32m<ipython-input-62-68fb9f946095>\u001b[0m in \u001b[0;36m<module>\u001b[0;34m()\u001b[0m\n\u001b[1;32m     24\u001b[0m \u001b[0mcarro1\u001b[0m \u001b[0;34m=\u001b[0m \u001b[0mcarro\u001b[0m\u001b[0;34m(\u001b[0m\u001b[0;34m)\u001b[0m\u001b[0;34m\u001b[0m\u001b[0m\n\u001b[1;32m     25\u001b[0m \u001b[0mprint\u001b[0m\u001b[0;34m(\u001b[0m\u001b[0mcarro1\u001b[0m\u001b[0;34m.\u001b[0m\u001b[0marrancar\u001b[0m\u001b[0;34m(\u001b[0m\u001b[0;32mTrue\u001b[0m\u001b[0;34m)\u001b[0m\u001b[0;34m)\u001b[0m\u001b[0;34m\u001b[0m\u001b[0m\n\u001b[0;32m---> 26\u001b[0;31m \u001b[0mcarro1\u001b[0m\u001b[0;34m.\u001b[0m\u001b[0mdatos\u001b[0m\u001b[0;34m(\u001b[0m\u001b[0;34m)\u001b[0m\u001b[0;34m\u001b[0m\u001b[0m\n\u001b[0m\u001b[1;32m     27\u001b[0m \u001b[0;34m\u001b[0m\u001b[0m\n",
      "\u001b[0;32m<ipython-input-62-68fb9f946095>\u001b[0m in \u001b[0;36mdatos\u001b[0;34m(self)\u001b[0m\n\u001b[1;32m     16\u001b[0m \u001b[0;34m\u001b[0m\u001b[0m\n\u001b[1;32m     17\u001b[0m     \u001b[0;32mdef\u001b[0m \u001b[0mdatos\u001b[0m\u001b[0;34m(\u001b[0m\u001b[0mself\u001b[0m\u001b[0;34m)\u001b[0m\u001b[0;34m:\u001b[0m\u001b[0;34m\u001b[0m\u001b[0m\n\u001b[0;32m---> 18\u001b[0;31m         \u001b[0mprint\u001b[0m\u001b[0;34m(\u001b[0m\u001b[0;34m'Ruedas:'\u001b[0m\u001b[0;34m,\u001b[0m\u001b[0mself\u001b[0m\u001b[0;34m.\u001b[0m\u001b[0mruedas\u001b[0m\u001b[0;34m)\u001b[0m\u001b[0;34m\u001b[0m\u001b[0m\n\u001b[0m\u001b[1;32m     19\u001b[0m         \u001b[0mprint\u001b[0m\u001b[0;34m(\u001b[0m\u001b[0;34m'Ancho:'\u001b[0m\u001b[0;34m,\u001b[0m\u001b[0mself\u001b[0m\u001b[0;34m.\u001b[0m\u001b[0mancho\u001b[0m\u001b[0;34m)\u001b[0m\u001b[0;34m\u001b[0m\u001b[0m\n\u001b[1;32m     20\u001b[0m         \u001b[0mprint\u001b[0m\u001b[0;34m(\u001b[0m\u001b[0;34m'Largo:'\u001b[0m\u001b[0;34m,\u001b[0m\u001b[0mself\u001b[0m\u001b[0;34m.\u001b[0m\u001b[0mlargo\u001b[0m\u001b[0;34m)\u001b[0m\u001b[0;34m\u001b[0m\u001b[0m\n",
      "\u001b[0;31mAttributeError\u001b[0m: 'carro' object has no attribute 'ruedas'"
     ]
    }
   ],
   "source": [
    "class carro():\n",
    "    \n",
    "    def _init_(self):\n",
    "        self.largo = 250\n",
    "        self.ancho = 120\n",
    "        self.ruedas = 4\n",
    "        self.enmarcha = False\n",
    "        \n",
    "    def arrancar(self,arrancamos):\n",
    "        self.enmarcha = arrancamos\n",
    "        \n",
    "        if(self.enmarcha):\n",
    "            return 'El carro esta en marcha'\n",
    "        else:\n",
    "            return 'El carro esta detenido'\n",
    "        \n",
    "    def datos(self):\n",
    "        print('Ruedas:',self.ruedas)\n",
    "        print('Ancho:',self.ancho)\n",
    "        print('Largo:',self.largo)\n",
    "        \n",
    "#Instancias\n",
    "\n",
    "carro1 = carro()\n",
    "print(carro1.arrancar(True))\n",
    "carro1.datos()\n",
    "        "
   ]
  },
  {
   "cell_type": "code",
   "execution_count": 3,
   "metadata": {},
   "outputs": [
    {
     "name": "stdout",
     "output_type": "stream",
     "text": [
      "Este men esta muerto, su dinero es del banco\n",
      "Es tu contraseña\n"
     ]
    }
   ],
   "source": [
    "class cuenta():\n",
    "    def __init__(self):\n",
    "        self.nombre = \"rene\"\n",
    "        self.__nip = 3120\n",
    "        self.vivo = True\n",
    "    \n",
    "    def estado(self,viviendo):\n",
    "        self.vivo = viviendo\n",
    "        \n",
    "        if (self.vivo):\n",
    "            return'Este men esta vivo'\n",
    "        else:\n",
    "            return 'Este men esta muerto, su dinero es del banco'\n",
    "        \n",
    "    def verificacion(self,cantidad):\n",
    "        #self._nip = cantidad\n",
    "        \n",
    "        if (self.__nip == cantidad):\n",
    "            return 'Es tu contraseña'\n",
    "        else:\n",
    "            return 'No es correcta'\n",
    "        \n",
    "\n",
    "#Instancias\n",
    "\n",
    "person1 = cuenta()\n",
    "print(person1.estado(False))\n",
    "\n",
    "print(person1.verificacion(3120))"
   ]
  },
  {
   "cell_type": "code",
   "execution_count": 2,
   "metadata": {},
   "outputs": [
    {
     "name": "stdout",
     "output_type": "stream",
     "text": [
      "introduce nuevo nip:1234\n",
      "Nombre: Joaquin\n",
      "Saldo: 10000000\n",
      "Nip: 1234\n"
     ]
    }
   ],
   "source": [
    "class Cuenta_Bancaria:\n",
    "    #Propiedades metodo constructor\n",
    "    def __init__(self,name,nip,money):\n",
    "        self.nombre = name\n",
    "        self.__contra = nip\n",
    "        self.__saldo = money\n",
    "    #metodos\n",
    "    def setNip(self,newNip):\n",
    "        self.__contra = newNip\n",
    "        \n",
    "    def setNip2(self):\n",
    "        newNip = input('introduce nuevo nip:')\n",
    "        self.__contra = newNip\n",
    "        \n",
    "    def datos(self):\n",
    "        print('Nombre:',self.nombre)\n",
    "        print('Saldo:',self.__saldo)\n",
    "        print('Nip:',self.__contra)\n",
    "\n",
    "## main        \n",
    "cuenta = Cuenta_Bancaria('Joaquin',1234,10000000)\n",
    "cuenta.setNip2()\n",
    "cuenta.datos()"
   ]
  },
  {
   "cell_type": "code",
   "execution_count": null,
   "metadata": {},
   "outputs": [],
   "source": []
  },
  {
   "cell_type": "code",
   "execution_count": null,
   "metadata": {},
   "outputs": [],
   "source": []
  }
 ],
 "metadata": {
  "kernelspec": {
   "display_name": "Python 3",
   "language": "python",
   "name": "python3"
  },
  "language_info": {
   "codemirror_mode": {
    "name": "ipython",
    "version": 3
   },
   "file_extension": ".py",
   "mimetype": "text/x-python",
   "name": "python",
   "nbconvert_exporter": "python",
   "pygments_lexer": "ipython3",
   "version": "3.6.5"
  }
 },
 "nbformat": 4,
 "nbformat_minor": 2
}
