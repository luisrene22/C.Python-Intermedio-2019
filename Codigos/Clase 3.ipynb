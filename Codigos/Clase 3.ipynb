{
 "cells": [
  {
   "cell_type": "code",
   "execution_count": 1,
   "metadata": {},
   "outputs": [
    {
     "name": "stdout",
     "output_type": "stream",
     "text": [
      "realizando checking\n",
      "esto volo\n",
      "The airplane has: 3 ruedas.\n",
      "The airplane has: 2 wings.\n",
      "\n",
      "\n",
      "\n",
      "\n",
      "realizando checking\n",
      "esto volo\n",
      "The airplane has: 3 ruedas.\n",
      "The airplane has: 2 wings.\n"
     ]
    }
   ],
   "source": [
    "class avion():\n",
    "    \n",
    "    #Contructor\n",
    "    def __init__(self):\n",
    "        self.__alas = 2\n",
    "        self.__ruedas = 3\n",
    "        self.__volar = False\n",
    "        \n",
    "    #Metodos\n",
    "    \n",
    "    def __checkingState(self):\n",
    "        print('realizando checking')\n",
    "        self.combustible = 'ok'\n",
    "        self.puerta = 'close'\n",
    "        \n",
    "        if(self.combustible == 'ok' and self.puerta == 'close'):\n",
    "            return True\n",
    "        else:\n",
    "            return False\n",
    "    \n",
    "    \n",
    "    def arrancar(self,arrancamos):\n",
    "        self.__volar = arrancamos\n",
    "        \n",
    "        if(self.__volar):\n",
    "            auxchequeo = self.__checkingState()\n",
    "            \n",
    "        #Parte de validación\n",
    "        \n",
    "        if(self.__volar and auxchequeo):\n",
    "            return 'esto volo'\n",
    "        elif(self.__volar and auxchequeo == False):\n",
    "            return \"Warning, something wrong\"\n",
    "        else:\n",
    "            return 'antes de volar verificar problemas'\n",
    "    \n",
    "    \n",
    "    def datos(self):\n",
    "        print('The airplane has:',self.__ruedas,'ruedas.')\n",
    "        print('The airplane has:',self.__alas,'wings.')\n",
    "        \n",
    "#Parte de Intancias\n",
    "\n",
    "avion1 = avion()\n",
    "print(avion1.arrancar(True))\n",
    "avion1.datos()\n",
    "#print(avion1.__checkingState())\n",
    "\n",
    "print('\\n\\n\\n')\n",
    "\n",
    "avion2 = avion()\n",
    "print(avion2.arrancar(True))\n",
    "avion2.datos()\n",
    "#print(avion2.__checkingState())"
   ]
  },
  {
   "cell_type": "markdown",
   "metadata": {},
   "source": [
    "## Herencia"
   ]
  },
  {
   "cell_type": "markdown",
   "metadata": {},
   "source": [
    "* Clase padre ----> Clase Generica\n",
    "* Clase hija ----> Clase particular"
   ]
  },
  {
   "cell_type": "markdown",
   "metadata": {},
   "source": [
    "Clase Generica: Arma\n",
    "(Propiedades)\n",
    "* Largo\n",
    "* Ancho\n",
    "* Color\n",
    "* Peso\n",
    "(Metodos)\n",
    "* Usar\n",
    "\n",
    "Clase Particular: mp40(subfusil)\n",
    "(Propiedades)\n",
    "* Cargador de 32 balas\n",
    "* Expansor de Cargador Nv. 1, 2 y 3 (Max. 40 balas)\n",
    "* Astil\n",
    "* Pivote\n",
    "\n",
    "Clase Particular: AWM(fusil de francotirador)\n",
    "(Propiedades)\n",
    "* Expansor de Cargador Nv. 1, 2 y 3\n",
    "* Silenciador\n",
    "* Boquilla Nv. 1, 2 y 3"
   ]
  },
  {
   "cell_type": "code",
   "execution_count": null,
   "metadata": {},
   "outputs": [],
   "source": [
    "class Vehiculos():\n",
    "    def __init__(self,marca,modelo):\n",
    "        "
   ]
  },
  {
   "cell_type": "code",
   "execution_count": 7,
   "metadata": {},
   "outputs": [
    {
     "name": "stdout",
     "output_type": "stream",
     "text": [
      "Ingresa tu edad: 8\n",
      "Ingresa tu nombre:rene\n",
      "Ingresa tu RFC: 4167\n",
      "No puede laborar\n"
     ]
    }
   ],
   "source": [
    "class person():\n",
    "    #Contructor\n",
    "    def __init__(self,nombre,edad):\n",
    "        self.nombre = nombre\n",
    "        self.edad = edad\n",
    "        \n",
    "    def setName(self,nombre):\n",
    "        self.nombre = nombre\n",
    "        \n",
    "    def setEdad(self,edad):\n",
    "        self.edad = edad\n",
    "        \n",
    "    def imprimir(self):\n",
    "        print('Su nombre es:', self.nombre)\n",
    "        print('Su edad es:', self.edad)\n",
    "        print('Su RFC es:',self.rfc)\n",
    "        \n",
    "\n",
    "class Empleado(person):\n",
    "    def __init__(self,rfc,nombre,edad):\n",
    "        super().__init__(nombre,edad)\n",
    "        self.rfc = rfc\n",
    "        \n",
    "    def setRFC(self,rfc):\n",
    "        self.rfc=rfc\n",
    "        \n",
    "    def Actedad(self,edad,rfc,name):\n",
    "        if (edad>=18):\n",
    "            self.setRFC(self.rfc)\n",
    "            self.setName(self)\n",
    "            self.imprimir()\n",
    "        else:\n",
    "            print(\"No puede laborar\")\n",
    "            \n",
    "edad=int(input(\"Ingresa tu edad: \"))\n",
    "nombre=input(\"Ingresa tu nombre:\")\n",
    "rfc=input(\"Ingresa tu RFC: \")\n",
    "\n",
    "\n",
    "emp=Empleado(rfc,nombre,edad)\n",
    "emp.Actedad(edad,rfc,nombre)"
   ]
  },
  {
   "cell_type": "code",
   "execution_count": null,
   "metadata": {},
   "outputs": [],
   "source": []
  }
 ],
 "metadata": {
  "kernelspec": {
   "display_name": "Python 3",
   "language": "python",
   "name": "python3"
  },
  "language_info": {
   "codemirror_mode": {
    "name": "ipython",
    "version": 3
   },
   "file_extension": ".py",
   "mimetype": "text/x-python",
   "name": "python",
   "nbconvert_exporter": "python",
   "pygments_lexer": "ipython3",
   "version": "3.6.5"
  }
 },
 "nbformat": 4,
 "nbformat_minor": 2
}
