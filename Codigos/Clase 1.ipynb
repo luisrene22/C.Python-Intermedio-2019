{
 "cells": [
  {
   "cell_type": "markdown",
   "metadata": {},
   "source": [
    "# Primer Programa"
   ]
  },
  {
   "cell_type": "code",
   "execution_count": 1,
   "metadata": {},
   "outputs": [
    {
     "name": "stdout",
     "output_type": "stream",
     "text": [
      "Hola mundo\n"
     ]
    }
   ],
   "source": [
    "print('Hola mundo')"
   ]
  },
  {
   "cell_type": "markdown",
   "metadata": {},
   "source": [
    "Clave del Internet -------> Ma4aDo77G"
   ]
  },
  {
   "cell_type": "markdown",
   "metadata": {},
   "source": [
    "## Mayor o menor de edad"
   ]
  },
  {
   "cell_type": "code",
   "execution_count": 5,
   "metadata": {},
   "outputs": [
    {
     "name": "stdout",
     "output_type": "stream",
     "text": [
      "Usuario dame tu edad en años:\n",
      "19\n",
      "eres mayor\n"
     ]
    }
   ],
   "source": [
    "print('Usuario dame tu edad en años:')#Imprimir un mesaje como instrucción para el usuario\n",
    "n = int(input())#Declarar una variable variable n, del tipo entero y que ingresara el usuario \n",
    "                #por tanto es un valor de entrada\n",
    "if n > 18:#Se escribe una sentencia de forma que si n es mayor a dieciocho (años)\n",
    "    print('eres mayor')#Se imprimira un mensaje 'eres mayor'\n",
    "else:\n",
    "    print('eres asquerosamente joven')#Si no pasa lo anterior se imprimira otro mensaje."
   ]
  },
  {
   "cell_type": "code",
   "execution_count": 4,
   "metadata": {},
   "outputs": [
    {
     "name": "stdout",
     "output_type": "stream",
     "text": [
      "Digite su edad:23\n",
      "Usted es mayor de edad\n",
      "Deea otro ingresono\n"
     ]
    }
   ],
   "source": [
    "a = \"si\"#Declaramos una variable tipo cadena 'str'\n",
    "while (a==\"si\"):#Iniciamos un ciclo while donde mientras la variable 'a == si' se repetira el ciclo o programa\n",
    "    edad = int(input('Digite su edad:'))#Declaramos otra variable llamada 'edad' pero su valor lo dara el usuario\n",
    "                                        #y sera del tipo entero 'int' ya que esta dada en años\n",
    "    \n",
    "    if edad >= 18:#Dentro del ciclo 'while' se escribe una sentencia de manera que si la variable edad >= 18 años\n",
    "        print(\"Usted es mayor de edad\")#Se le mostrara al usuario un mensaje de si es mayor\n",
    "    else:\n",
    "        print(\"Usted es menor de edad\")#Si no se cumple el 'if' se le mostrara un mensaje diferente\n",
    "    a = str(input(\"Deea otro ingreso\"))#Le pedimos al usuario que nos indique si continua el programa o el ciclo\n",
    "                                       #'while' de manera que para que esto pase el usuario debera escrbir 'si'\n",
    "                                       #que al final es una cadena."
   ]
  },
  {
   "cell_type": "markdown",
   "metadata": {},
   "source": [
    "Los dos ultimos programas aunque diferentes en su forma de ser escrito cumplen la misma tarea que es saber si un usuario es mayor o menor de edad, pidiendole al usuario que ingresara su edad. \n",
    "\n",
    "El primero es más sencillo aunque no tan solido ya que si el numero de usuarios no se limita a solo uno, tendriamos que volver a arrancar el programa y esto se evita en el segundo con un ciclo 'while' y la declaración de una variable de tipo cadena 'str' y de entrada (que el ususario ingrese)."
   ]
  },
  {
   "cell_type": "code",
   "execution_count": 8,
   "metadata": {},
   "outputs": [
    {
     "name": "stdout",
     "output_type": "stream",
     "text": [
      "Usuario dame tu edad en años:\n",
      "10\n",
      "eres asquerosamente joven\n",
      "Desea otro ingresono\n"
     ]
    }
   ],
   "source": [
    "# Si queremos ciclar el programa anterior\n",
    "a = 'si'\n",
    "while (a == 'si'):\n",
    "    print('Usuario dame tu edad en años:')\n",
    "    n = int(input())\n",
    "    if n > 18:\n",
    "        print('eres mayor')\n",
    "    else:\n",
    "        print('eres asquerosamente joven')\n",
    "    a = str(input('Desea otro ingreso'))"
   ]
  },
  {
   "cell_type": "markdown",
   "metadata": {},
   "source": [
    "## Repaso de Funciones"
   ]
  },
  {
   "cell_type": "code",
   "execution_count": 16,
   "metadata": {},
   "outputs": [
    {
     "name": "stdout",
     "output_type": "stream",
     "text": [
      "Dame un numero:10\n",
      "Dame un numero:10\n",
      "El resultado es: 20.0\n",
      "Su resultado es: 20.0\n"
     ]
    }
   ],
   "source": [
    "def sum1var(var1,var2):\n",
    "    print('El resultado es:', var1 + var2)\n",
    "\n",
    "def sum2var(var1,var2):\n",
    "    resultado = var1 + var2\n",
    "    return resultado\n",
    "\n",
    "## Parte del main\n",
    "\n",
    "num1 = float(input('Dame un numero:'))\n",
    "num2 = float(input('Dame un numero:'))\n",
    "\n",
    "sum1var(num1,num2)\n",
    "\n",
    "resul = sum2var(num1,num2)\n",
    "print('Su resultado es:',resul)"
   ]
  },
  {
   "cell_type": "code",
   "execution_count": 34,
   "metadata": {},
   "outputs": [
    {
     "name": "stdout",
     "output_type": "stream",
     "text": [
      "9\n"
     ]
    }
   ],
   "source": [
    "def sumaArre(numbers):\n",
    "    result = 0\n",
    "    for number in numbers:\n",
    "        result += number\n",
    "    print(result)\n",
    "sumaArre([4,5])"
   ]
  },
  {
   "cell_type": "code",
   "execution_count": 42,
   "metadata": {},
   "outputs": [
    {
     "name": "stdout",
     "output_type": "stream",
     "text": [
      "15\n"
     ]
    }
   ],
   "source": [
    "def suma(numbers):\n",
    "    result = 0\n",
    "    for number in numbers:\n",
    "        result += number\n",
    "    print(result)\n",
    "suma([1,0,9,5])"
   ]
  },
  {
   "cell_type": "markdown",
   "metadata": {},
   "source": [
    "## Listas"
   ]
  },
  {
   "cell_type": "code",
   "execution_count": 24,
   "metadata": {},
   "outputs": [
    {
     "name": "stdout",
     "output_type": "stream",
     "text": [
      "[3, 42, 5, 1, 3]\n",
      "[3, 42, 5, 1, 3, 0]\n",
      "[3, 42, 1, 3, 0]\n",
      "[0, 1, 3, 3, 42]\n"
     ]
    }
   ],
   "source": [
    "'''\n",
    "lista = [] #Declarar\n",
    "\n",
    "i = 1\n",
    "\n",
    "while i <= 100:\n",
    "    lista.append(i) # La función'.append' agrega un elemento a la lista\n",
    "    i = i +1\n",
    "print(lista)'''\n",
    "\n",
    "\n",
    "### Algunos metodos o funciones de listas\n",
    "\n",
    "lista = [3,42,5,1,3]\n",
    "print(lista)\n",
    "\n",
    "lista.append(0)\n",
    "print(lista)\n",
    "\n",
    "lista.pop(2)\n",
    "print(lista)\n",
    "\n",
    "lista.sort()\n",
    "print(lista)\n",
    "\n",
    "## Tarea extra la diferencia de que es una lista, arreglo y pila"
   ]
  },
  {
   "cell_type": "code",
   "execution_count": 80,
   "metadata": {},
   "outputs": [
    {
     "name": "stdout",
     "output_type": "stream",
     "text": [
      "[-20, -19, -18, -17, -16, -15, -14, -13, -12, -11, -10, -9, -8, -7, -6, -5, -4, -3, -2, -1, 0, 1, 2, 3, 4, 5, 6, 7, 8, 9, 10, 11, 12, 13, 14, 15, 16, 17, 18, 19, 20, 21, 22, 23, 24, 25, 26, 27, 28, 29, 30, 31, 32, 33, 34, 35, 36, 37, 38, 39, 40, 41, 42, 43, 44, 45, 46, 47, 48, 49, 50, 51, 52, 53, 54, 55, 56, 57, 58, 59, 60, 61, 62, 63, 64, 65, 66, 67, 68, 69, 70, 71, 72, 73, 74, 75, 76, 77, 78, 79, 80, 81, 82, 83, 84, 85, 86, 87, 88, 89, 90, 91, 92, 93, 94, 95, 96, 97, 98, 99, 100]\n"
     ]
    }
   ],
   "source": [
    "lista = [] #Declarar\n",
    "\n",
    "i = -20\n",
    "\n",
    "while i <= 100:\n",
    "    lista.append(i)# La función'.append' agrega un elemento a la lista\n",
    "    i = i +1\n",
    "print(lista)"
   ]
  },
  {
   "cell_type": "markdown",
   "metadata": {},
   "source": [
    "**Paradigma**: Es un mdelo o patrón en cualquier disciplina cientifica u otro contexto epistemologíco (estudio del conocimiento).\n",
    "\n",
    "**El éxito de un paradigma es consecuencia de su efectividad para resolver un problema.**\n",
    "\n",
    "El paradigma Orientado a Objetos tiene cuatro pilares\n",
    "\n",
    "---> Abstracción \n",
    "---> Encapsulamiento\n",
    "---> Herencia\n",
    "---> Polimorfismo\n",
    "\n",
    "UML ---> Diagrama de clase o Lenguaje de Modelado Unificado"
   ]
  },
  {
   "cell_type": "markdown",
   "metadata": {},
   "source": [
    "[Televisor] ---> Nombre del objeto\n",
    "\n",
    "Propiedades \n",
    "* Una matriz rectangular de pixeles\n",
    "* Geometria rectangular\n",
    "* Enciente o apaga\n",
    "* Consume energia electrica\n",
    "\n",
    "Metodos\n",
    "* Decodifica ondas electromagneticas para su transformacion a imagenes\n",
    "* Proyecta imagenes en movimiento\n",
    "* Emite sonidos"
   ]
  },
  {
   "cell_type": "code",
   "execution_count": 90,
   "metadata": {},
   "outputs": [
    {
     "name": "stdout",
     "output_type": "stream",
     "text": [
      "250\n",
      "El carro tiene 4 ruedas\n",
      "3\n",
      "False\n",
      "El carro no esta en marcha\n"
     ]
    }
   ],
   "source": [
    "class carro():\n",
    "    #Propiedades\n",
    "    largo = 250\n",
    "    ancho = 120\n",
    "    ruedas = 4\n",
    "    enmarcha = False #Es para verificar el estado del auto\n",
    "    \n",
    "    #Métodos\n",
    "    def arrancar(self):#Metodo Modificador \n",
    "        pass\n",
    "        #self.enmarcha = True\n",
    "    \n",
    "    def estado(self):\n",
    "        if (self.enmarcha):\n",
    "            return 'El carro esta en marcha'\n",
    "        else:\n",
    "            return 'El carro no esta en marcha'\n",
    "\n",
    "##Parte de declaración\n",
    "    \n",
    "#Nombre de nuestro objeto\n",
    "carro1 = carro() #Instancia: Declarar un objeto de nuestra clase.\n",
    "print(carro1.largo)\n",
    "print('El carro tiene', carro1.ruedas,'ruedas')\n",
    "carro1.ruedas = 3\n",
    "print(carro1.ruedas)\n",
    "carro1.arrancar()\n",
    "print(carro1.enmarcha)\n",
    "print(carro1.estado())"
   ]
  },
  {
   "cell_type": "code",
   "execution_count": 95,
   "metadata": {},
   "outputs": [
    {
     "name": "stdout",
     "output_type": "stream",
     "text": [
      "True\n",
      "El perro muerde? True\n",
      "El perro tiene hambre\n"
     ]
    }
   ],
   "source": [
    "class perro():\n",
    "    #Propiedades\n",
    "    ladra = True\n",
    "    muerde = True\n",
    "    corre = True\n",
    "    vuela = False\n",
    "    \n",
    "    #Metodos\n",
    "    def hambre(self):\n",
    "        pass\n",
    "    \n",
    "    def estado(self):\n",
    "        if (self.muerde):\n",
    "            return 'El perro tiene hambre'\n",
    "        else:\n",
    "            return 'El perro no tiene hambre'\n",
    "    \n",
    "    \n",
    "perro1 = perro()\n",
    "print(perro1.corre)\n",
    "print('El perro muerde?', perro1.muerde)\n",
    "print(perro1.estado())"
   ]
  },
  {
   "cell_type": "code",
   "execution_count": 106,
   "metadata": {},
   "outputs": [
    {
     "name": "stdout",
     "output_type": "stream",
     "text": [
      "John\n",
      "Wich\n",
      "John.Wich@yahoo.com\n",
      "John Wich\n"
     ]
    }
   ],
   "source": [
    "class Empleado:\n",
    "    \n",
    "    #Metodo Contructor\n",
    "    def __init__ (self,first,last):\n",
    "        self.first = first\n",
    "        self.last = last\n",
    "        self.email = first + '.' + last + '@yahoo.com'\n",
    "    \n",
    "    def fullname(self):\n",
    "        return '{} {}'.format(self.first, self.last)\n",
    "    \n",
    "#Instancias\n",
    "emp1 = Empleado('John','Wich')\n",
    "\n",
    "print(emp1.first)\n",
    "print(emp1.last)\n",
    "print(emp1.email)\n",
    "print(emp1.fullname())"
   ]
  },
  {
   "cell_type": "code",
   "execution_count": null,
   "metadata": {},
   "outputs": [],
   "source": [
    "#Codigo del profesor"
   ]
  },
  {
   "cell_type": "code",
   "execution_count": 3,
   "metadata": {},
   "outputs": [
    {
     "name": "stdout",
     "output_type": "stream",
     "text": [
      "John\n",
      "Wick\n",
      "John.Wick@yahoo.com\n",
      "Hola John, cómo estas?\n",
      "John Wick\n"
     ]
    }
   ],
   "source": [
    "class Empleado: \n",
    "    \n",
    "    #Constructor\n",
    "    def __init__(self,first,last):\n",
    "        self.first= first\n",
    "        self.last= last\n",
    "        self.email= first + '.' + last + '@yahoo.com' \n",
    "        \n",
    "    def fullname(self):\n",
    "        return '{} {}'.format(self.first,self.last) \n",
    "    \n",
    "    def getHolaMundo(self):\n",
    "        print('Hola '+self.first+', cómo estas?')\n",
    "\n",
    "#Instancias\n",
    "emp1= Empleado('John','Wick') \n",
    "\n",
    "print(emp1.first)      \n",
    "print(emp1.last)\n",
    "print(emp1.email)\n",
    "emp1.getHolaMundo()\n",
    "print(emp1.fullname())"
   ]
  }
 ],
 "metadata": {
  "kernelspec": {
   "display_name": "Python 3",
   "language": "python",
   "name": "python3"
  },
  "language_info": {
   "codemirror_mode": {
    "name": "ipython",
    "version": 3
   },
   "file_extension": ".py",
   "mimetype": "text/x-python",
   "name": "python",
   "nbconvert_exporter": "python",
   "pygments_lexer": "ipython3",
   "version": "3.6.5"
  }
 },
 "nbformat": 4,
 "nbformat_minor": 2
}
