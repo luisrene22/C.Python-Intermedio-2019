{
 "cells": [
  {
   "cell_type": "code",
   "execution_count": 2,
   "metadata": {},
   "outputs": [
    {
     "name": "stdout",
     "output_type": "stream",
     "text": [
      "Nombre: rene\n",
      "Edad: 25\n",
      "Residencia: cdmx\n",
      "salario: 300000\n",
      "antiguedad: 0\n",
      "True\n",
      "False\n"
     ]
    }
   ],
   "source": [
    "class person():# Clase padre\n",
    "    #Metodo Contructor\n",
    "    def __init__(self,nombre,edad,lugResi):#metodo\n",
    "        self.name = nombre#atributos\n",
    "        self.age = edad\n",
    "        self.place = lugResi\n",
    "        \n",
    "    def datos(self):#metodo\n",
    "        \n",
    "        print('Nombre:',self.name)\n",
    "        print('Edad:',self.age)\n",
    "        print('Residencia:',self.place)\n",
    "        \n",
    "        \n",
    "class employee(person):#clase hija\n",
    "    def __init__(self,nombre,edad,lugResi,salario,antiguedad):\n",
    "        #Sobreescribir --> SUPER\n",
    "        super().__init__(nombre,edad,lugResi)#hace referencia al padre \n",
    "        self.salario = salario\n",
    "        self.antiguedad = antiguedad\n",
    "    \n",
    "    def datos(self):\n",
    "        super().datos()\n",
    "        print('salario:',self.salario)\n",
    "        print('antiguedad:',self.antiguedad)\n",
    "        \n",
    "        \n",
    "#instancias\n",
    "\n",
    "person1 = employee('rene',25,'cdmx',300000,0)\n",
    "person1.datos()\n",
    "\n",
    "#isinstance()  -> Regresa valor true o false\n",
    "print(isinstance(person1,person))\n",
    "\n",
    "person2 = person('Anfonso',20,'cdmx')\n",
    "#person2.datos()\n",
    "print(isinstance(person2,employee))"
   ]
  },
  {
   "cell_type": "code",
   "execution_count": 78,
   "metadata": {},
   "outputs": [
    {
     "name": "stdout",
     "output_type": "stream",
     "text": [
      "ingresa tu numero de cuenta123\n",
      "ingresa tu numero de contraseña123\n",
      "Nombre: rene\n",
      "Cuenta: 123\n",
      "Contraseña: 123\n",
      "Nombre: rene\n",
      "Cuenta: 123\n",
      "Contraseña: 123\n",
      "Nombre: rolando\n",
      "Cuenta: 456\n",
      "Contraseña: 456\n"
     ]
    }
   ],
   "source": [
    "'''\n",
    "a = input('Eres Administrativo?:')\n",
    "e = input('Eres estudiante?:')\n",
    "\n",
    "if (n == 'si',n == 'si'):\n",
    "    print('accediendo a cuenta administrativo')\n",
    "else:\n",
    "    print('')\n",
    "\n",
    "'''\n",
    "class comunidad():#clase PADRE\n",
    "    #Metodo Constructor\n",
    "    def __init__(self,nombre,cuenta,contra):\n",
    "        self.__name = nombre#Atributo\n",
    "        self.__cuent = cuenta#Atributo\n",
    "        self.__pword = contra#Atributo\n",
    "        \n",
    "    def __setName(self,nombre):\n",
    "        self.__nombre = nombre\n",
    "        \n",
    "    def __setCuenta(self,cuenta):\n",
    "        self.__cuent = cuenta\n",
    "    \n",
    "    def __setContra(self,contra):\n",
    "        self.__pword = contra\n",
    "        \n",
    "    \n",
    "    def datos(self):#Metodo\n",
    "        print('Nombre:',self.__name)\n",
    "        print('Cuenta:',self.__cuent)\n",
    "        print('Contraseña:',self.__pword)\n",
    "        \n",
    "class administrativo(comunidad):#Clase HIJA\n",
    "    def __init__(self,nombre,cuenta,contra,expLaboral):\n",
    "        super().__init__(nombre,cuenta,contra)#hace referencia al padre\n",
    "        self.__expLaboral = expLaboral\n",
    "        \n",
    "    def __setEXPlabo(self,expLaboral):\n",
    "        self.__expLaboral = expLaboral\n",
    "    \n",
    "    def __datos(self):\n",
    "        super().datos()#Metodo\n",
    "        print('Experiencia laboral:',self.__expLaboral,'años')\n",
    "        #if (expLaboral == 'si'):\n",
    "        #    print('administrativo')\n",
    "        #else:\n",
    "        #    print('No eres parte de la comunidad')\n",
    "\n",
    "class estudiante(comunidad):\n",
    "    def __init__(self,nombre,cuenta,contra,pGeneral,creditos):\n",
    "        super().__init__(nombre,cuenta,contra)\n",
    "        self.pGeneral = pGeneral\n",
    "        self.creditos = creditos\n",
    "        \n",
    "    def setPROgeneral(self,pGeneral):\n",
    "        self.pGeneral = pGeneral\n",
    "        \n",
    "    def setCreditos(self,creditos):\n",
    "        self.creditos = creditos\n",
    "    \n",
    "    def __datos(self):\n",
    "        super().datos()\n",
    "        print('Estudiante?', self.pGeneral)\n",
    "        print('Estudiante?', self.creditos,'%')\n",
    "        \n",
    "\n",
    "#nombre = input('Ingresa tu nombre:')\n",
    "cuenta = int(input('ingresa tu numero de cuenta'))\n",
    "contra = int(input('ingresa tu numero de contraseña'))\n",
    "#expLaboral = input('Tiene exp. laboral:')\n",
    "if (cuenta == 123):\n",
    "    user1.datos()\n",
    "else:\n",
    "    print('vuelve a intentar')\n",
    "\n",
    "\n",
    "#Instancias\n",
    "\n",
    "user1 = administrativo('rene',123,123,4)\n",
    "#user1.menu(nombre,cuenta,contra,expLaboral)\n",
    "user1.datos()\n",
    "\n",
    "user2 = estudiante('rolando',456,456,8.9,70)\n",
    "user2.datos()"
   ]
  },
  {
   "cell_type": "code",
   "execution_count": 75,
   "metadata": {},
   "outputs": [
    {
     "name": "stdout",
     "output_type": "stream",
     "text": [
      "Ingresa  contraseña: 42\n",
      "Eres un robot u.u\n"
     ]
    }
   ],
   "source": [
    "class Cuenta_Bancaria:\n",
    "    #Propiedades método constructor\n",
    "    def __init__(self, name, nip, money):\n",
    "        self.nombre=name\n",
    "        self.__contra=nip\n",
    "        self.__saldo=money\n",
    "    #metodos\n",
    "    '''\n",
    "    def setNip(self, newNip):\n",
    "        self.__contra = newNip'''\n",
    "    \n",
    "    def setNip2(self):\n",
    "        for i in range (0,3):\n",
    "            auxcontra=int(input(\"ingresa tu nip\"))\n",
    "            if self.__contra==auxcontra:\n",
    "                 newNip = input(\"introduce nuevo nip: \")\n",
    "                 self.__contra=newNip\n",
    "            else:\n",
    "                print(\"NIP incorrecto\\n\")\n",
    "                \n",
    "    def datos(self, clave):\n",
    "        if self.__contra == clave:\n",
    "            print(\"Nombre: \",self.nombre)\n",
    "            print(\"Saldo: \",self.__saldo)\n",
    "            print(\"NIP: \", self.__contra)\n",
    "        else:\n",
    "            print(\"Eres un robot u.u\")\n",
    "        \n",
    "## main        \n",
    "cuenta = Cuenta_Bancaria(\"joaquin\",1234, 0)\n",
    "\n",
    "#cuenta.setNip2()\n",
    "clave = int(input(\"Ingresa  contraseña: \"))\n",
    "cuenta.datos(clave)"
   ]
  },
  {
   "cell_type": "code",
   "execution_count": null,
   "metadata": {},
   "outputs": [],
   "source": [
    "# class Coche():\n",
    "    def desplazamiento(self):\n",
    "        print('Movimiento en 4 ruedas')\n",
    "        \n",
    "class Moto():\n",
    "    def desplazamiento(self):\n",
    "        print('Movimiento en 2 ruedas')\n",
    "        \n",
    "class Trailer():\n",
    "    def desplazamiento(self):\n",
    "        print('Movimiento en 10 ruedas')\n",
    "        \n",
    "#Instancias\n",
    "'''\n",
    "vh1 = Moto()\n",
    "vh1.desplazamiento()\n",
    "vh2 = Coche()\n",
    "vh2.desplazamiento()\n",
    "vh3 = Trailer()\n",
    "vh3.desplazamiento()\n",
    "'''\n",
    "\n",
    "#Polimorfismo\n",
    "def desplazamientoVehiculo(vehiculo):\n",
    "    vehiculo.desplazamiento()\n",
    "\n",
    "#Intancias\n",
    "objPoli = Coche()\n",
    "desplazamientoVehiculo(objPoli)\n"
   ]
  },
  {
   "cell_type": "code",
   "execution_count": null,
   "metadata": {},
   "outputs": [],
   "source": []
  },
  {
   "cell_type": "code",
   "execution_count": null,
   "metadata": {},
   "outputs": [],
   "source": [
    "def sumar(op1,op2):\n",
    "    print('La suma es:',op1+op2)\n",
    "    \n",
    "def sumar(op1,op2):\n",
    "    print('La suma es:',op1-op2)"
   ]
  },
  {
   "cell_type": "markdown",
   "metadata": {},
   "source": [
    "## Exepciones"
   ]
  },
  {
   "cell_type": "code",
   "execution_count": 6,
   "metadata": {},
   "outputs": [
    {
     "name": "stdout",
     "output_type": "stream",
     "text": [
      "Introduce el primer numero:1\n",
      "Introduce el segundo numero:0\n",
      "introduce la operación a realizar (suma, resta y divide)divide\n",
      "abogado verdad?\n",
      "operación erronea\n"
     ]
    }
   ],
   "source": [
    "def suma(op1,op2):\n",
    "    print('La suma es:',op1+op2)\n",
    "    \n",
    "def resta(op1,op2):\n",
    "    print('La resta es:',op1-op2)\n",
    "    \n",
    "def divide(num1,num2):\n",
    "    try:\n",
    "        return num1/num2 #se realiza operación\n",
    "    except ZeroDivisionError:\n",
    "        print('abogado verdad?')\n",
    "        return \"operación erronea\"\n",
    "    \n",
    "#Main\n",
    "op1 = (int(input('Introduce el primer numero:')))\n",
    "op2 = (int(input('Introduce el segundo numero:')))\n",
    "\n",
    "operacion = input('introduce la operación a realizar (suma, resta y divide)')\n",
    "\n",
    "if operacion == 'suma':\n",
    "    print(suma(op1,op2))\n",
    "elif operacion == 'resta':\n",
    "    print(resta(op1,op2))\n",
    "elif operacion == 'divide':\n",
    "    print(divide(op1,op2))\n",
    "else:\n",
    "    print('Operación no completada')"
   ]
  },
  {
   "cell_type": "code",
   "execution_count": 12,
   "metadata": {},
   "outputs": [
    {
     "name": "stdout",
     "output_type": "stream",
     "text": [
      "Introduce el primer numero:vghj\n",
      "valores ingrsados incorrectamente\n",
      "introduce la operación a realizar (suma, resta y divide)resta\n",
      "Introduce el primer numero:hg\n",
      "valores ingrsados incorrectamente\n",
      "introduce la operación a realizar (suma, resta y divide)suma\n",
      "Introduce el primer numero:67\n",
      "Introduce el segundo numero:88\n",
      "La suma es: 155\n",
      "None\n"
     ]
    }
   ],
   "source": [
    "def suma(op1,op2):\n",
    "    print('La suma es:',op1+op2)\n",
    "    \n",
    "def resta(op1,op2):\n",
    "    print('La resta es:',op1-op2)\n",
    "    \n",
    "def divide(num1,num2):\n",
    "    try:\n",
    "        return num1/num2 #se realiza operación\n",
    "    except ZeroDivisionError:\n",
    "        print('abogado verdad?')\n",
    "        return \"operación erronea\"\n",
    "    \n",
    "#Main\n",
    "while True:#forma ñera de hacer un ciclo infinito\n",
    "    try:\n",
    "        op1 = (int(input('Introduce el primer numero:')))\n",
    "        op2 = (int(input('Introduce el segundo numero:')))\n",
    "        break\n",
    "    except ValueError:\n",
    "        print('valores ingrsados incorrectamente')\n",
    "\n",
    "    operacion = input('introduce la operación a realizar (suma, resta y divide)')\n",
    "\n",
    "if operacion == 'suma':\n",
    "    print(suma(op1,op2))\n",
    "elif operacion == 'resta':\n",
    "    print(resta(op1,op2))\n",
    "elif operacion == 'divide':\n",
    "    print(divide(op1,op2))\n",
    "else:\n",
    "    print('Operación no completada')"
   ]
  },
  {
   "cell_type": "code",
   "execution_count": 19,
   "metadata": {},
   "outputs": [
    {
     "name": "stdout",
     "output_type": "stream",
     "text": [
      "Ingrese valor:3\n",
      "Ingrese valor:4\n",
      "El valor es0.75\n",
      "Its done\n"
     ]
    }
   ],
   "source": [
    "def divide():\n",
    "    try:\n",
    "        op1 = float(input('Ingrese valor:'))\n",
    "        op2 = float(input('Ingrese valor:'))\n",
    "        print('El valor es'+str(op1/op2))\n",
    "    #except ValueError:\n",
    "    #    print('El valor no es valido')\n",
    "    #except ZeroDivisionError:\n",
    "    #    print('Eres odontologo?')\n",
    "    #except:\n",
    "     #   print('Somehthing wrong has happened')\n",
    "    finally:\n",
    "        print('Its done')\n",
    "        \n",
    "divide()"
   ]
  },
  {
   "cell_type": "code",
   "execution_count": 65,
   "metadata": {},
   "outputs": [
    {
     "name": "stdout",
     "output_type": "stream",
     "text": [
      "Ingrese su nombre:rene\n",
      "Ingrese su numero de cuenta:55\n",
      "Ingrese su contraseña:67\n",
      "Eres administrativo (ads),alumno(alm) o profesor(prf)?:ads\n"
     ]
    },
    {
     "ename": "AttributeError",
     "evalue": "'Comunidad' object has no attribute 'chekin_name'",
     "output_type": "error",
     "traceback": [
      "\u001b[0;31m---------------------------------------------------------------------------\u001b[0m",
      "\u001b[0;31mAttributeError\u001b[0m                            Traceback (most recent call last)",
      "\u001b[0;32m<ipython-input-65-c79f8c1c34c6>\u001b[0m in \u001b[0;36m<module>\u001b[0;34m()\u001b[0m\n\u001b[1;32m     28\u001b[0m \u001b[0;34m\u001b[0m\u001b[0m\n\u001b[1;32m     29\u001b[0m \u001b[0madminis\u001b[0m \u001b[0;34m=\u001b[0m \u001b[0mComunidad\u001b[0m\u001b[0;34m(\u001b[0m\u001b[0;34m)\u001b[0m\u001b[0;34m\u001b[0m\u001b[0m\n\u001b[0;32m---> 30\u001b[0;31m \u001b[0madminis\u001b[0m\u001b[0;34m.\u001b[0m\u001b[0mchekin_name\u001b[0m\u001b[0;34m(\u001b[0m\u001b[0;34m)\u001b[0m\u001b[0;34m\u001b[0m\u001b[0m\n\u001b[0m\u001b[1;32m     31\u001b[0m \u001b[0madminis\u001b[0m\u001b[0;34m.\u001b[0m\u001b[0mchekin_count\u001b[0m\u001b[0;34m(\u001b[0m\u001b[0;34m)\u001b[0m\u001b[0;34m\u001b[0m\u001b[0m\n\u001b[1;32m     32\u001b[0m \u001b[0madminis\u001b[0m\u001b[0;34m.\u001b[0m\u001b[0mchekin_contra\u001b[0m\u001b[0;34m(\u001b[0m\u001b[0;34m)\u001b[0m\u001b[0;34m\u001b[0m\u001b[0m\n",
      "\u001b[0;31mAttributeError\u001b[0m: 'Comunidad' object has no attribute 'chekin_name'"
     ]
    }
   ],
   "source": [
    "n = input('Ingrese su nombre:')\n",
    "cu = int(input('Ingrese su numero de cuenta:'))\n",
    "co = int(input('Ingrese su contraseña:'))\n",
    "a = input('Eres administrativo (ads),alumno(alm) o profesor(prf)?:')\n",
    "\n",
    "class Comunidad:\n",
    "    nombre = n#atributos\n",
    "    cuenta = cu\n",
    "    contra = co\n",
    "    estado = a\n",
    "    \n",
    "#Metodos\n",
    " \n",
    "    def chekin_state():\n",
    "        if (a == 'ads'):\n",
    "            print('....Accediendo a cuenta de administrativo.....')\n",
    "        else:\n",
    "            \n",
    "            def chekin_name(self,nombre):\n",
    "                print('Su nombre es:',Comunidad.nombre)\n",
    "    \n",
    "    def chekin_count(self,cuenta):\n",
    "        print('Su numero de cuenta es:',Comunidad.cuenta)\n",
    "    \n",
    "    def chekin_contra(self,contra):\n",
    "        print('Su contraseña es:',Comunidad.contra)\n",
    "        \n",
    "\n",
    "adminis = Comunidad()\n",
    "adminis.chekin_name()\n",
    "adminis.chekin_count()\n",
    "adminis.chekin_contra()"
   ]
  },
  {
   "cell_type": "code",
   "execution_count": 72,
   "metadata": {},
   "outputs": [
    {
     "name": "stdout",
     "output_type": "stream",
     "text": [
      "<bound method Administrativo.estado of <__main__.Administrativo object at 0x109b16940>>\n"
     ]
    }
   ],
   "source": [
    "class Administrativo:\n",
    "    @property\n",
    "    def nombre(self):\n",
    "        return True\n",
    "    @property\n",
    "    def cuenta(self):\n",
    "        return True\n",
    "    @property\n",
    "    def contraseña(self):\n",
    "        return True\n",
    "    def estado(self):\n",
    "        print('Eres administrativo')\n",
    "\n",
    "class Estudiante:\n",
    "    @property\n",
    "    def nombre(self):\n",
    "        return True\n",
    "    @property\n",
    "    def cuenta(self):\n",
    "        return True\n",
    "    @property\n",
    "    def contraseña(self):\n",
    "        return True\n",
    "    def estado(self):\n",
    "        print('Eres estudiante')\n",
    "\n",
    "administrativo = Administrativo()\n",
    "estudiante = Estudiante()\n",
    "\n",
    "print(administrativo.estado)\n"
   ]
  },
  {
   "cell_type": "code",
   "execution_count": null,
   "metadata": {},
   "outputs": [],
   "source": []
  }
 ],
 "metadata": {
  "kernelspec": {
   "display_name": "Python 3",
   "language": "python",
   "name": "python3"
  },
  "language_info": {
   "codemirror_mode": {
    "name": "ipython",
    "version": 3
   },
   "file_extension": ".py",
   "mimetype": "text/x-python",
   "name": "python",
   "nbconvert_exporter": "python",
   "pygments_lexer": "ipython3",
   "version": "3.6.5"
  }
 },
 "nbformat": 4,
 "nbformat_minor": 2
}
